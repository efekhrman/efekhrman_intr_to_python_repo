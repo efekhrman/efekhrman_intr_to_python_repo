{
 "cells": [
  {
   "cell_type": "code",
   "execution_count": 38,
   "metadata": {},
   "outputs": [
    {
     "name": "stdout",
     "output_type": "stream",
     "text": [
      "Prime numbers between 0 and 1000 are printed by prime_first and prime_second functions:\n",
      "\n",
      "2 3 5 7 11 13 17 19 23 29 31 37 41 43 47 53 59 61 67 71 73 79 83 89 97 101 103 107 109 113 127 131 137 139 149 151 157 163 167 173 179 181 191 193 197 199 211 223 227 229 233 239 241 251 257 263 269 271 277 281 283 293 307 311 313 317 331 337 347 349 353 359 367 373 379 383 389 397 401 409 419 421 431 433 439 443 449 457 461 463 467 479 487 491 499 503 509 521 523 541 547 557 563 569 571 577 587 593 599 601 607 613 617 619 631 641 643 647 653 659 661 673 677 683 691 701 709 719 727 733 739 743 751 757 761 769 773 787 797 809 811 821 823 827 829 839 853 857 859 863 877 881 883 887 907 911 919 929 937 941 947 953 967 971 977 983 991 997 "
     ]
    }
   ],
   "source": [
    "def prime_first(i): #prime_first fonksiyonunu tanimladim.\n",
    "    if i > 1:\n",
    "        for j in range(2, i): #birinci odevdeki ile ayni mantikta calisiyor\n",
    "            if (i % j) == 0:\n",
    "                break\n",
    "        else:\n",
    "            print(i, end = \" \")\n",
    "                \n",
    "def prime_second(i): #prime_second fonksiyonunu tanimladim\n",
    "    if i > 500:\n",
    "        for j in range(2, i):\n",
    "            if (i % j) == 0:\n",
    "                break\n",
    "        else:    \n",
    "            print(i, end = \" \")\n",
    "\n",
    "print(\"Prime numbers between 0 and 1000 are printed by prime_first and prime_second functions:\\n\")\n",
    "for i in range(0, 1001): #i, bu range'de dolaniyor.\n",
    "    \n",
    "    if i in range(0,501):\n",
    "        prime_first(i)\n",
    "\n",
    "    elif i in range(501,1001):\n",
    "        prime_second(i)\n",
    "        \n",
    "    else:\n",
    "        break\n",
    "        #yazdirma islemi tamamlandi."
   ]
  },
  {
   "cell_type": "code",
   "execution_count": null,
   "metadata": {},
   "outputs": [],
   "source": []
  }
 ],
 "metadata": {
  "kernelspec": {
   "display_name": "Python 3",
   "language": "python",
   "name": "python3"
  },
  "language_info": {
   "codemirror_mode": {
    "name": "ipython",
    "version": 3
   },
   "file_extension": ".py",
   "mimetype": "text/x-python",
   "name": "python",
   "nbconvert_exporter": "python",
   "pygments_lexer": "ipython3",
   "version": "3.8.5"
  }
 },
 "nbformat": 4,
 "nbformat_minor": 4
}
