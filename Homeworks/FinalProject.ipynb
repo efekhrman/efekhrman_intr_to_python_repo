{
 "cells": [
  {
   "cell_type": "code",
   "execution_count": null,
   "metadata": {},
   "outputs": [],
   "source": [
    "class birinciTarif():\n",
    "    def __init__(self, domates, biber, patlican, kiyma, patates, sogan):\n",
    "        self.domates = domates\n",
    "        self.biber = biber\n",
    "        self.patlican = patlican\n",
    "        self.kiyma = kiyma\n",
    "        self.patates = patates\n",
    "        self.sogan = sogan\n",
    "    def patatesMiktari(self)\n",
    "        print(\"1 kilo patates kullaniniz.\\n\")\n",
    "    def domatesMiktari(self)\n",
    "        print(\"3 adet domates kullaniniz.\\n\")\n",
    "    def kiymaMiktari(self)\n",
    "        print(\"Yarım kilo kiyma yeterli olacaktir.\")\n",
    "        \n"
   ]
  }
 ],
 "metadata": {
  "kernelspec": {
   "display_name": "Python 3",
   "language": "python",
   "name": "python3"
  },
  "language_info": {
   "codemirror_mode": {
    "name": "ipython",
    "version": 3
   },
   "file_extension": ".py",
   "mimetype": "text/x-python",
   "name": "python",
   "nbconvert_exporter": "python",
   "pygments_lexer": "ipython3",
   "version": "3.8.5"
  }
 },
 "nbformat": 4,
 "nbformat_minor": 4
}
