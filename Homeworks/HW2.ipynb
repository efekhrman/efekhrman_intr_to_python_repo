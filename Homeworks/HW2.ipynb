{
 "cells": [
  {
   "cell_type": "code",
   "execution_count": 47,
   "metadata": {},
   "outputs": [
    {
     "name": "stdout",
     "output_type": "stream",
     "text": [
      "End term grades are announced below: \n",
      " Dogu Ayabakan:  48.00000000000001 \n",
      " Efe Kahraman:  64.0 \n",
      " Feyza Ates:  38.8 \n",
      " Zumra Ates:  89.2 \n",
      " Dilara Anabolu:  70.6 \n",
      "\n",
      "Grades in descending order:\n",
      " 89.2 \n",
      " 70.6 \n",
      " 64.0 \n",
      " 48.00000000000001 \n",
      " 38.8 \n",
      "\n",
      "Dear Zumra Ates, congratulations! You have received the highest grade in our class!\n"
     ]
    }
   ],
   "source": [
    "gradesList = [[\"Midterm Grade\", 42, 78, 19, 93, 54], \n",
    "              [\"Final Grade\", 64, 32, 31, 95, 82], \n",
    "              [\"Homework Grade\", 28, 100, 94, 70, 81]]\n",
    "#oncelikle ogrencilerin aldiklari notlari listeledim.\n",
    "\n",
    "#simdi ogrencilerin adlarini listeledim.\n",
    "studentsList = [[\"Names\", \"Dogu\", \"Efe\", \"Feyza\", \"Zumra\", \"Dilara\"],\n",
    "                [\"Surnames\", \"Ayabakan\", \"Kahraman\", \"Ates\", \"Ates\", \"Anabolu\"]]\n",
    "\n",
    "#butun infoyu iceren dictionary'yi olusturdum.\n",
    "info = {\"Dogu Ayabakan\" : [gradesList[0][0], gradesList[0][1], \n",
    "                           gradesList[1][0], gradesList[1][1], \n",
    "                           gradesList[2][0], gradesList[2][1],],\n",
    "        \"Efe Kahraman\" : [gradesList[0][0], gradesList[0][2], \n",
    "                           gradesList[1][0], gradesList[1][2], \n",
    "                           gradesList[2][0], gradesList[2][2],],\n",
    "        \"Feyza Ates\" : [gradesList[0][0], gradesList[0][3], \n",
    "                           gradesList[1][0], gradesList[1][3], \n",
    "                           gradesList[2][0], gradesList[2][3],],\n",
    "        \"Zumra Ates\" : [gradesList[0][0], gradesList[0][4], \n",
    "                           gradesList[1][0], gradesList[1][4], \n",
    "                           gradesList[2][0], gradesList[2][4],],\n",
    "        \"Dilara Anabolu\" : [gradesList[0][0], gradesList[0][5], \n",
    "                           gradesList[1][0], gradesList[1][5], \n",
    "                           gradesList[2][0], gradesList[2][5],]}\n",
    "\n",
    "#simdi notlar icin agirlik belirleyip ogrencilerin donem sonu ortalamalarini hesaplatacagim.\n",
    "\n",
    "#vize icin yuzde 40, final icin yuzde 40, odev icin yuzde 20 agirlik belirledim.\n",
    "\n",
    "Dogu_Grade = float(40 * gradesList[0][1] / 100 + 40 * gradesList[1][1] / 100 + 20 * gradesList[2][1] / 100)\n",
    "Efe_Grade = float(40 * gradesList[0][2] / 100 + 40 * gradesList[1][2] / 100 + 20 * gradesList[2][2] / 100)\n",
    "Feyza_Grade = float(40 * gradesList[0][3] / 100 + 40 * gradesList[1][3] / 100 + 20 * gradesList[2][3] / 100)\n",
    "Zumra_Grade = float(40 * gradesList[0][4] / 100 + 40 * gradesList[1][4] / 100 + 20 * gradesList[2][4] / 100)\n",
    "Dilara_Grade = float(40 * gradesList[0][5] / 100 + 40 * gradesList[1][5] / 100 + 20 * gradesList[2][5] / 100)\n",
    "\n",
    "print(\"End term grades are announced below: \\n\",\n",
    "      \"Dogu Ayabakan: \", Dogu_Grade, \"\\n\",\n",
    "      \"Efe Kahraman: \", Efe_Grade, \"\\n\",\n",
    "      \"Feyza Ates: \", Feyza_Grade, \"\\n\",\n",
    "      \"Zumra Ates: \", Zumra_Grade, \"\\n\",\n",
    "      \"Dilara Anabolu: \", Dilara_Grade, \"\\n\")\n",
    "\n",
    "#donem sonu notlari hesaplandi ve yazdirildi.\n",
    "\n",
    "Term_Grades = {\"Dogu Ayabakan\" : Dogu_Grade, \"Efe Kahraman\" : Efe_Grade, \"Feyza Ates\" : Feyza_Grade,\n",
    "               \"Zumra Ates\" : Zumra_Grade, \"Dilara Anabolu\" : Dilara_Grade}\n",
    "\n",
    "endTermGrades = [Dogu_Grade, Efe_Grade, Feyza_Grade, Zumra_Grade, Dilara_Grade]\n",
    "endTermGrades.sort(reverse = True)\n",
    "\n",
    "print(\"Grades in descending order:\\n\", endTermGrades[0], \"\\n\", endTermGrades[1], \"\\n\", endTermGrades[2], \"\\n\",\n",
    "     endTermGrades[3], \"\\n\", endTermGrades[4], \"\\n\")\n",
    "\n",
    "print(\"Dear Zumra Ates, congratulations! You have received the highest grade in our class!\")\n"
   ]
  },
  {
   "cell_type": "code",
   "execution_count": null,
   "metadata": {},
   "outputs": [],
   "source": []
  }
 ],
 "metadata": {
  "kernelspec": {
   "display_name": "Python 3",
   "language": "python",
   "name": "python3"
  },
  "language_info": {
   "codemirror_mode": {
    "name": "ipython",
    "version": 3
   },
   "file_extension": ".py",
   "mimetype": "text/x-python",
   "name": "python",
   "nbconvert_exporter": "python",
   "pygments_lexer": "ipython3",
   "version": "3.8.5"
  }
 },
 "nbformat": 4,
 "nbformat_minor": 4
}
