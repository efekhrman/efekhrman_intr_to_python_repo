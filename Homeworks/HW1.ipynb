{
 "cells": [
  {
   "cell_type": "code",
   "execution_count": 43,
   "metadata": {},
   "outputs": [
    {
     "data": {
      "text/plain": [
       "[[359, 193, 947], [397, 503, 773], [857, 631, 631]]"
      ]
     },
     "execution_count": 43,
     "metadata": {},
     "output_type": "execute_result"
    }
   ],
   "source": [
    "import random as rnd #random kutuphanesini rnd kisaltmasiyla import ettim\n",
    "\n",
    "primeNumbers = [] # append metodu ile asal sayilari bu bos listeye ekledim\n",
    "\n",
    "#2 ile 1000 arasindaki asal sayilari listeliyorum\n",
    "for i in range(2, 1000): #asal sayilar ikiden baslar. ikiden itibaren her sayiyi kontrol ediyorum.\n",
    "    for j in range(2, i): #her sayi icin kendisinden kucuk sayilarin kendisini kalansiz bolup bolmedigini kontrol ediyorum.\n",
    "        if (i % j) == 0:\n",
    "            break   #eger kalansiz bolunuyorsa asal sayi degildir.\n",
    "    else:\n",
    "        primeNumbers.append(i) #eger kalansiz bolunuyorsa asal sayidir ve asal sayilar listemize ekleyebilirim.\n",
    "\n",
    "def randomPrimeNumber(primeNumbers):\n",
    "    index = rnd.randint(0, len(primeNumbers)-1)\n",
    "    return primeNumbers[index]\n",
    "\n",
    "primeNumbersMatrix = [[randomPrimeNumber(primeNumbers),randomPrimeNumber(primeNumbers),randomPrimeNumber(primeNumbers)],\n",
    "                      [randomPrimeNumber(primeNumbers),randomPrimeNumber(primeNumbers),randomPrimeNumber(primeNumbers)],\n",
    "                      [randomPrimeNumber(primeNumbers),randomPrimeNumber(primeNumbers),randomPrimeNumber(primeNumbers)]]\n",
    "\n",
    "primeNumbersMatrix #boylece rastgele asal sayilardan olusan matrisimizi elde ettik."
   ]
  },
  {
   "cell_type": "code",
   "execution_count": null,
   "metadata": {},
   "outputs": [],
   "source": []
  }
 ],
 "metadata": {
  "kernelspec": {
   "display_name": "Python 3",
   "language": "python",
   "name": "python3"
  },
  "language_info": {
   "codemirror_mode": {
    "name": "ipython",
    "version": 3
   },
   "file_extension": ".py",
   "mimetype": "text/x-python",
   "name": "python",
   "nbconvert_exporter": "python",
   "pygments_lexer": "ipython3",
   "version": "3.8.5"
  }
 },
 "nbformat": 4,
 "nbformat_minor": 4
}
